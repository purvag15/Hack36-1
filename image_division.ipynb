{
  "nbformat": 4,
  "nbformat_minor": 0,
  "metadata": {
    "colab": {
      "name": "image division.ipynb",
      "provenance": []
    },
    "kernelspec": {
      "name": "python3",
      "display_name": "Python 3"
    },
    "language_info": {
      "name": "python"
    }
  },
  "cells": [
    {
      "cell_type": "code",
      "metadata": {
        "id": "_NJLiDkTMVYd"
      },
      "source": [
        "from PIL import Image\n",
        "from pylab import *\n",
        "import PIL.ImageOps   \n",
        "from PIL import Image"
      ],
      "execution_count": 1,
      "outputs": []
    },
    {
      "cell_type": "code",
      "metadata": {
        "colab": {
          "base_uri": "https://localhost:8080/",
          "height": 333
        },
        "id": "Lrt16x5QMYNV",
        "outputId": "bb72dc4a-b769-495b-9f81-069c15ac0357"
      },
      "source": [
        "full=Image.open('new.jpeg')\n",
        "full = full.resize((750,1000))\n",
        "full.size\n",
        "full=array(full)\n",
        "# print(full)\n",
        "# print(img.shape)\n",
        "# print(full.size)\n",
        "print(full.size) #750,1000\n",
        "if(full.size>=750000):\n",
        "  full=full[0:1000,0:750,0:1]\n",
        "print(full.shape)\n",
        "print(full.size)\n",
        "full=full.reshape((-1,750000))\n",
        "full=(full-np.min(full))\n",
        "full=full/np.max(full)\n",
        "full=full*255\n",
        "full=np.where(full<100, 0, full)\n",
        "full=np.where(full>=100, 255, full)\n",
        "pixels=full.reshape((1000,750))\n",
        "plt.imshow(pixels)\n",
        "plt.show()\n",
        "print(pixels.shape)\n",
        "pixels2=pixels"
      ],
      "execution_count": 65,
      "outputs": [
        {
          "output_type": "stream",
          "text": [
            "2250000\n",
            "(1000, 750, 1)\n",
            "750000\n"
          ],
          "name": "stdout"
        },
        {
          "output_type": "display_data",
          "data": {
            "image/png": "[encoded data removed]",
            "text/plain": [
              "<Figure size 432x288 with 1 Axes>"
            ]
          },
          "metadata": {
            "tags": [],
            "needs_background": "light"
          }
        },
        {
          "output_type": "stream",
          "text": [
            "(1000, 750)\n"
          ],
          "name": "stdout"
        }
      ]
    },
    {
      "cell_type": "code",
      "metadata": {
        "colab": {
          "base_uri": "https://localhost:8080/",
          "height": 285
        },
        "id": "yEG_PZQ6NfYy",
        "outputId": "fa3524f2-27e1-435f-e9aa-7a885fc66f65"
      },
      "source": [
        "###########-------- Removing top, bottom, left and right white spaces from photograph ------------#############\n",
        "pixels=pixels2\n",
        "row_sums = pixels.sum(axis=1)\n",
        "column_sums = pixels.sum(axis=0)\n",
        "# print(pixels.shape)\n",
        "while average(pixels[0])>240:\n",
        "  pixels = np.delete(pixels, 0, 0) #delete top white space\n",
        "while average(pixels[pixels.shape[0]-1])>240:\n",
        "  pixels = np.delete(pixels, pixels.shape[0]-1, 0) #delete bottom white space\n",
        "# print(pixels.shape)\n",
        "\n",
        "start=0\n",
        "while column_sums[start]>=column_sums[0]:\n",
        "  start=start+1\n",
        "pixels=pixels[:,start:] #delete left whitespaces\n",
        "column_sums = pixels.sum(axis=0)\n",
        "\n",
        "start=pixels.shape[1]-1\n",
        "while column_sums[start]>=column_sums[0]:\n",
        "  start=start-1\n",
        "pixels=pixels[:,0:start] #delete right whitespaces\n",
        "\n",
        "# print(pixels[0])\n",
        "plt.imshow(pixels)\n",
        "plt.show()\n",
        "# print(pixels[0])\n",
        "\n",
        "data = Image.fromarray(pixels)\n",
        "data = data.convert(\"L\")\n",
        "\n",
        "# print(type(data))\n",
        "# data.save('test.jpg')\n",
        "# print(pixels[0])"
      ],
      "execution_count": 64,
      "outputs": [
        {
          "output_type": "display_data",
          "data": {
            "image/png": "[encoded data removed]",
            "text/plain": [
              "<Figure size 432x288 with 1 Axes>"
            ]
          },
          "metadata": {
            "tags": [],
            "needs_background": "light"
          }
        },
        {
          "output_type": "stream",
          "text": [
            "<class 'PIL.Image.Image'>\n"
          ],
          "name": "stdout"
        }
      ]
    },
    {
      "cell_type": "code",
      "metadata": {
        "id": "iJkeM33UOVl8"
      },
      "source": [
        "im=data\n",
        "no_of_entries = 10\n",
        "l = []\n",
        "for i in range(0, no_of_entries):\n",
        "  width, height = im.size\n",
        "  fiveper = height*9//(no_of_entries*100)\n",
        "  fiftper = width*15/200\n",
        "  left = (width/2)+fiftper\n",
        "  right = width-fiftper\n",
        "  top = i*int(height//no_of_entries)+fiveper\n",
        "  bottom = int(height//no_of_entries)*(i+1)-fiveper\n",
        "  # print(bottom)\n",
        "  im1 = im.crop((left, top, right, bottom))\n",
        "  # imhk = im1.save(\"testcrop.jpg\")\n",
        "  l.append(im1)\n",
        "# # To save the list of cropped images\n",
        "x=\"1\"\n",
        "for i in l:\n",
        "  ikj=i.save(x+\".jpg\");\n",
        "  x=x+\"1\""
      ],
      "execution_count": 66,
      "outputs": []
    },
    {
      "cell_type": "code",
      "metadata": {
        "id": "6olnVdSZX5AI"
      },
      "source": [
        ""
      ],
      "execution_count": null,
      "outputs": []
    }
  ]
}