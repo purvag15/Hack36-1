{
  "nbformat": 4,
  "nbformat_minor": 0,
  "metadata": {
    "colab": {
      "name": "merged all.ipynb",
      "provenance": [],
      "collapsed_sections": []
    },
    "kernelspec": {
      "name": "python3",
      "display_name": "Python 3"
    },
    "language_info": {
      "name": "python"
    }
  },
  "cells": [
    {
      "cell_type": "code",
      "metadata": {
        "id": "vPGaOLNMyoqd"
      },
      "source": [
        "!pip install tensorflow keras numpy mnist matplotlib"
      ],
      "execution_count": null,
      "outputs": []
    },
    {
      "cell_type": "code",
      "metadata": {
        "id": "Z70Tx_5tlW2t"
      },
      "source": [
        "from PIL import Image\n",
        "from pylab import *\n",
        "import PIL.ImageOps   \n",
        "from PIL import Image\n",
        "import numpy as np\n",
        "import mnist\n",
        "import matplotlib.pyplot as plt\n",
        "from keras.models import Sequential\n",
        "from keras.layers import Dense\n",
        "from keras.utils import to_categorical\n",
        "import tensorflow as tf\n",
        "(train_images, train_labels), (test_images, test_labels) = tf.keras.datasets.mnist.load_data()"
      ],
      "execution_count": 46,
      "outputs": []
    },
    {
      "cell_type": "code",
      "metadata": {
        "id": "pO48k9wtzLsw"
      },
      "source": [
        ""
      ],
      "execution_count": null,
      "outputs": []
    },
    {
      "cell_type": "code",
      "metadata": {
        "colab": {
          "base_uri": "https://localhost:8080/",
          "height": 333
        },
        "id": "mI295E-Hleb_",
        "outputId": "63e18b9f-7006-466d-cbdd-fc40d45ae1c7"
      },
      "source": [
        "#######----------- CONVERT IMAGE TO PIXELS ----------#########\n",
        "\n",
        "full=Image.open('new.jpeg')\n",
        "full = full.resize((750,1000))\n",
        "full.size\n",
        "full=array(full)\n",
        "# print(full)\n",
        "# print(img.shape)\n",
        "# print(full.size)\n",
        "print(full.size) #750,1000\n",
        "if(full.size>=750000):\n",
        "  full=full[0:1000,0:750,0:1]\n",
        "print(full.shape)\n",
        "print(full.size)\n",
        "full=full.reshape((-1,750000))\n",
        "full=(full-np.min(full))\n",
        "full=full/np.max(full)\n",
        "full=full*255\n",
        "full=np.where(full<100, 0, full)\n",
        "full=np.where(full>=100, 255, full)\n",
        "pixels=full.reshape((1000,750))\n",
        "plt.imshow(pixels)\n",
        "plt.show()\n",
        "print(pixels.shape)\n",
        "pixels2=pixels\n"
      ],
      "execution_count": 8,
      "outputs": [
        {
          "output_type": "stream",
          "text": [
            "2250000\n",
            "(1000, 750, 1)\n",
            "750000\n"
          ],
          "name": "stdout"
        },
        {
          "output_type": "display_data",
          "data": {
            "image/png": "[encoded data removed]",
            "text/plain": [
              "<Figure size 432x288 with 1 Axes>"
            ]
          },
          "metadata": {
            "tags": [],
            "needs_background": "light"
          }
        },
        {
          "output_type": "stream",
          "text": [
            "(1000, 750)\n"
          ],
          "name": "stdout"
        }
      ]
    },
    {
      "cell_type": "code",
      "metadata": {
        "colab": {
          "base_uri": "https://localhost:8080/",
          "height": 268
        },
        "id": "B09sN8gwlyDH",
        "outputId": "79bfdeda-24fb-40b0-d900-0a2b43b4f3b1"
      },
      "source": [
        "###########-------- Removing top, bottom, left and right white spaces from photograph ------------#############\n",
        "pixels=pixels2\n",
        "row_sums = pixels.sum(axis=1)\n",
        "column_sums = pixels.sum(axis=0)\n",
        "# print(pixels.shape)\n",
        "while average(pixels[0])>240:\n",
        "  pixels = np.delete(pixels, 0, 0) #delete top white space\n",
        "while average(pixels[pixels.shape[0]-1])>240:\n",
        "  pixels = np.delete(pixels, pixels.shape[0]-1, 0) #delete bottom white space\n",
        "# print(pixels.shape)\n",
        "\n",
        "start=0\n",
        "while column_sums[start]>=column_sums[0]:\n",
        "  start=start+1\n",
        "pixels=pixels[:,start:] #delete left whitespaces\n",
        "column_sums = pixels.sum(axis=0)\n",
        "\n",
        "start=pixels.shape[1]-1\n",
        "while column_sums[start]>=column_sums[0]:\n",
        "  start=start-1\n",
        "pixels=pixels[:,0:start] #delete right whitespaces\n",
        "\n",
        "# print(pixels[0])\n",
        "plt.imshow(pixels)\n",
        "plt.show()\n",
        "# print(pixels[0])\n",
        "\n",
        "data = Image.fromarray(pixels)\n",
        "data = data.convert(\"L\")\n",
        "\n",
        "# print(type(data))\n",
        "# data.save('test.jpg')\n",
        "\n",
        "# print(pixels[0])"
      ],
      "execution_count": 27,
      "outputs": [
        {
          "output_type": "display_data",
          "data": {
            "image/png": "[encoded data removed]",
            "text/plain": [
              "<Figure size 432x288 with 1 Axes>"
            ]
          },
          "metadata": {
            "tags": [],
            "needs_background": "light"
          }
        }
      ]
    },
    {
      "cell_type": "code",
      "metadata": {
        "colab": {
          "base_uri": "https://localhost:8080/",
          "height": 1000
        },
        "id": "P_NxWjYVl12e",
        "outputId": "2ec4b72a-1eee-425d-c584-cf710ec57220"
      },
      "source": [
        "########-------Splitting big image to small images (getting number in each row)-------#########\n",
        "\n",
        "im=data\n",
        "no_of_entries = 10\n",
        "l = [] #list to keep all rows in form of images.\n",
        "for i in range(0, no_of_entries):\n",
        "  width, height = im.size\n",
        "  fiveper = height*9//(no_of_entries*100)\n",
        "  fiftper = width*15/200\n",
        "  left = (width/2)+fiftper\n",
        "  right = width-fiftper\n",
        "  top = i*int(height//no_of_entries)+fiveper\n",
        "  bottom = int(height//no_of_entries)*(i+1)-fiveper\n",
        "  # print(bottom)\n",
        "  im1 = im.crop((left, top, right, bottom))\n",
        "  # imhk = im1.save(\"testcrop.jpg\")\n",
        "  l.append(im1)\n",
        "# # To save the list of cropped images\n",
        "x=0\n",
        "for i in l:\n",
        "  if x!=0:\n",
        "    get_value(i)\n",
        "    ikj=i.save(\"new\\ \"+str(x)+\".jpg\")\n",
        "  x=x+1\n",
        "\n",
        "# get_value(l[1])"
      ],
      "execution_count": 42,
      "outputs": [
        {
          "output_type": "stream",
          "text": [
            "14697\n"
          ],
          "name": "stdout"
        },
        {
          "output_type": "display_data",
          "data": {
            "image/png": "[encoded data removed]",
            "text/plain": [
              "<Figure size 432x288 with 1 Axes>"
            ]
          },
          "metadata": {
            "tags": [],
            "needs_background": "light"
          }
        },
        {
          "output_type": "stream",
          "text": [
            "(71, 207)\n",
            "207\n",
            "2\n",
            "(22, 4)\n",
            "6 15\n"
          ],
          "name": "stdout"
        },
        {
          "output_type": "stream",
          "text": [
            "/usr/local/lib/python3.7/dist-packages/ipykernel_launcher.py:57: DeprecationWarning: elementwise comparison failed; this will raise an error in the future.\n"
          ],
          "name": "stderr"
        },
        {
          "output_type": "display_data",
          "data": {
            "image/png": "[encoded data removed]",
            "text/plain": [
              "<Figure size 432x288 with 1 Axes>"
            ]
          },
          "metadata": {
            "tags": [],
            "needs_background": "light"
          }
        },
        {
          "output_type": "stream",
          "text": [
            "(19, 16)\n",
            "5 6\n"
          ],
          "name": "stdout"
        },
        {
          "output_type": "stream",
          "text": [
            "/usr/local/lib/python3.7/dist-packages/ipykernel_launcher.py:93: DeprecationWarning: elementwise comparison failed; this will raise an error in the future.\n"
          ],
          "name": "stderr"
        },
        {
          "output_type": "display_data",
          "data": {
            "image/png": "[encoded data removed]",
            "text/plain": [
              "<Figure size 432x288 with 1 Axes>"
            ]
          },
          "metadata": {
            "tags": [],
            "needs_background": "light"
          }
        },
        {
          "output_type": "stream",
          "text": [
            "14697\n"
          ],
          "name": "stdout"
        },
        {
          "output_type": "display_data",
          "data": {
            "image/png": "[encoded data removed]",
            "text/plain": [
              "<Figure size 432x288 with 1 Axes>"
            ]
          },
          "metadata": {
            "tags": [],
            "needs_background": "light"
          }
        },
        {
          "output_type": "stream",
          "text": [
            "(71, 207)\n",
            "207\n",
            "2\n",
            "(21, 3)\n",
            "5 14\n"
          ],
          "name": "stdout"
        },
        {
          "output_type": "display_data",
          "data": {
            "image/png": "[encoded data removed]",
            "text/plain": [
              "<Figure size 432x288 with 1 Axes>"
            ]
          },
          "metadata": {
            "tags": [],
            "needs_background": "light"
          }
        },
        {
          "output_type": "stream",
          "text": [
            "(22, 4)\n",
            "6 15\n"
          ],
          "name": "stdout"
        },
        {
          "output_type": "display_data",
          "data": {
            "image/png": "[encoded data removed]",
            "text/plain": [
              "<Figure size 432x288 with 1 Axes>"
            ]
          },
          "metadata": {
            "tags": [],
            "needs_background": "light"
          }
        },
        {
          "output_type": "stream",
          "text": [
            "14697\n"
          ],
          "name": "stdout"
        },
        {
          "output_type": "display_data",
          "data": {
            "image/png": "[encoded data removed]",
            "text/plain": [
              "<Figure size 432x288 with 1 Axes>"
            ]
          },
          "metadata": {
            "tags": [],
            "needs_background": "light"
          }
        },
        {
          "output_type": "stream",
          "text": [
            "(71, 207)\n",
            "207\n",
            "2\n",
            "(24, 3)\n",
            "6 17\n"
          ],
          "name": "stdout"
        },
        {
          "output_type": "display_data",
          "data": {
            "image/png": "[encoded data removed]",
            "text/plain": [
              "<Figure size 432x288 with 1 Axes>"
            ]
          },
          "metadata": {
            "tags": [],
            "needs_background": "light"
          }
        },
        {
          "output_type": "stream",
          "text": [
            "(21, 22)\n",
            "5 5\n"
          ],
          "name": "stdout"
        },
        {
          "output_type": "display_data",
          "data": {
            "image/png": "[encoded data removed]",
            "text/plain": [
              "<Figure size 432x288 with 1 Axes>"
            ]
          },
          "metadata": {
            "tags": [],
            "needs_background": "light"
          }
        },
        {
          "output_type": "stream",
          "text": [
            "14697\n"
          ],
          "name": "stdout"
        },
        {
          "output_type": "display_data",
          "data": {
            "image/png": "[encoded data removed]",
            "text/plain": [
              "<Figure size 432x288 with 1 Axes>"
            ]
          },
          "metadata": {
            "tags": [],
            "needs_background": "light"
          }
        },
        {
          "output_type": "stream",
          "text": [
            "(71, 207)\n",
            "207\n",
            "2\n",
            "(25, 3)\n",
            "6 17\n"
          ],
          "name": "stdout"
        },
        {
          "output_type": "display_data",
          "data": {
            "image/png": "[encoded data removed]",
            "text/plain": [
              "<Figure size 432x288 with 1 Axes>"
            ]
          },
          "metadata": {
            "tags": [],
            "needs_background": "light"
          }
        },
        {
          "output_type": "stream",
          "text": [
            "(21, 15)\n",
            "5 8\n"
          ],
          "name": "stdout"
        },
        {
          "output_type": "display_data",
          "data": {
            "image/png": "[encoded data removed]",
            "text/plain": [
              "<Figure size 432x288 with 1 Axes>"
            ]
          },
          "metadata": {
            "tags": [],
            "needs_background": "light"
          }
        },
        {
          "output_type": "stream",
          "text": [
            "14697\n"
          ],
          "name": "stdout"
        },
        {
          "output_type": "display_data",
          "data": {
            "image/png": "[encoded data removed]",
            "text/plain": [
              "<Figure size 432x288 with 1 Axes>"
            ]
          },
          "metadata": {
            "tags": [],
            "needs_background": "light"
          }
        },
        {
          "output_type": "stream",
          "text": [
            "(71, 207)\n",
            "207\n",
            "2\n",
            "(25, 15)\n",
            "6 11\n"
          ],
          "name": "stdout"
        },
        {
          "output_type": "display_data",
          "data": {
            "image/png": "[encoded data removed]",
            "text/plain": [
              "<Figure size 432x288 with 1 Axes>"
            ]
          },
          "metadata": {
            "tags": [],
            "needs_background": "light"
          }
        },
        {
          "output_type": "stream",
          "text": [
            "(25, 16)\n",
            "6 11\n"
          ],
          "name": "stdout"
        },
        {
          "output_type": "display_data",
          "data": {
            "image/png": "[encoded data removed]",
            "text/plain": [
              "<Figure size 432x288 with 1 Axes>"
            ]
          },
          "metadata": {
            "tags": [],
            "needs_background": "light"
          }
        },
        {
          "output_type": "stream",
          "text": [
            "14697\n"
          ],
          "name": "stdout"
        },
        {
          "output_type": "display_data",
          "data": {
            "image/png": "[encoded data removed]",
            "text/plain": [
              "<Figure size 432x288 with 1 Axes>"
            ]
          },
          "metadata": {
            "tags": [],
            "needs_background": "light"
          }
        },
        {
          "output_type": "stream",
          "text": [
            "(71, 207)\n",
            "207\n",
            "2\n",
            "(32, 15)\n",
            "8 17\n"
          ],
          "name": "stdout"
        },
        {
          "output_type": "display_data",
          "data": {
            "image/png": "[encoded data removed]",
            "text/plain": [
              "<Figure size 432x288 with 1 Axes>"
            ]
          },
          "metadata": {
            "tags": [],
            "needs_background": "light"
          }
        },
        {
          "output_type": "stream",
          "text": [
            "(30, 16)\n",
            "8 15\n"
          ],
          "name": "stdout"
        },
        {
          "output_type": "display_data",
          "data": {
            "image/png": "[encoded data removed]",
            "text/plain": [
              "<Figure size 432x288 with 1 Axes>"
            ]
          },
          "metadata": {
            "tags": [],
            "needs_background": "light"
          }
        },
        {
          "output_type": "stream",
          "text": [
            "14697\n"
          ],
          "name": "stdout"
        },
        {
          "output_type": "display_data",
          "data": {
            "image/png": "[encoded data removed]",
            "text/plain": [
              "<Figure size 432x288 with 1 Axes>"
            ]
          },
          "metadata": {
            "tags": [],
            "needs_background": "light"
          }
        },
        {
          "output_type": "stream",
          "text": [
            "(71, 207)\n",
            "207\n",
            "2\n",
            "(25, 14)\n",
            "6 12\n"
          ],
          "name": "stdout"
        },
        {
          "output_type": "display_data",
          "data": {
            "image/png": "[encoded data removed]",
            "text/plain": [
              "<Figure size 432x288 with 1 Axes>"
            ]
          },
          "metadata": {
            "tags": [],
            "needs_background": "light"
          }
        },
        {
          "output_type": "stream",
          "text": [
            "(22, 16)\n",
            "6 9\n"
          ],
          "name": "stdout"
        },
        {
          "output_type": "display_data",
          "data": {
            "image/png": "[encoded data removed]",
            "text/plain": [
              "<Figure size 432x288 with 1 Axes>"
            ]
          },
          "metadata": {
            "tags": [],
            "needs_background": "light"
          }
        },
        {
          "output_type": "stream",
          "text": [
            "14697\n"
          ],
          "name": "stdout"
        },
        {
          "output_type": "display_data",
          "data": {
            "image/png": "[encoded data removed]",
            "text/plain": [
              "<Figure size 432x288 with 1 Axes>"
            ]
          },
          "metadata": {
            "tags": [],
            "needs_background": "light"
          }
        },
        {
          "output_type": "stream",
          "text": [
            "(71, 207)\n",
            "207\n",
            "2\n",
            "(24, 19)\n",
            "6 9\n"
          ],
          "name": "stdout"
        },
        {
          "output_type": "display_data",
          "data": {
            "image/png": "[encoded data removed]",
            "text/plain": [
              "<Figure size 432x288 with 1 Axes>"
            ]
          },
          "metadata": {
            "tags": [],
            "needs_background": "light"
          }
        },
        {
          "output_type": "stream",
          "text": [
            "(25, 22)\n",
            "6 8\n"
          ],
          "name": "stdout"
        },
        {
          "output_type": "display_data",
          "data": {
            "image/png": "[encoded data removed]",
            "text/plain": [
              "<Figure size 432x288 with 1 Axes>"
            ]
          },
          "metadata": {
            "tags": [],
            "needs_background": "light"
          }
        },
        {
          "output_type": "stream",
          "text": [
            "14697\n"
          ],
          "name": "stdout"
        },
        {
          "output_type": "display_data",
          "data": {
            "image/png": "[encoded data removed]",
            "text/plain": [
              "<Figure size 432x288 with 1 Axes>"
            ]
          },
          "metadata": {
            "tags": [],
            "needs_background": "light"
          }
        },
        {
          "output_type": "stream",
          "text": [
            "(71, 207)\n",
            "207\n",
            "2\n",
            "(28, 6)\n",
            "7 18\n"
          ],
          "name": "stdout"
        },
        {
          "output_type": "display_data",
          "data": {
            "image/png": "[encoded data removed]",
            "text/plain": [
              "<Figure size 432x288 with 1 Axes>"
            ]
          },
          "metadata": {
            "tags": [],
            "needs_background": "light"
          }
        },
        {
          "output_type": "stream",
          "text": [
            "(24, 16)\n",
            "6 10\n"
          ],
          "name": "stdout"
        },
        {
          "output_type": "display_data",
          "data": {
            "image/png": "[encoded data removed]",
            "text/plain": [
              "<Figure size 432x288 with 1 Axes>"
            ]
          },
          "metadata": {
            "tags": [],
            "needs_background": "light"
          }
        }
      ]
    },
    {
      "cell_type": "code",
      "metadata": {
        "id": "H0wxcaVomTyW"
      },
      "source": [
        "def get_separate_digits(x):\n",
        "  if x==0:\n",
        "    return\n",
        "    global all_digits\n",
        "  global column_sums\n",
        "  global pixels\n",
        "\n",
        "  column_sums = pixels.sum(axis=0)\n",
        "  start=0\n",
        "  # print(len(column_sums))\n",
        "  whiteval=column_sums[0]\n",
        "  while column_sums[start]>=whiteval:\n",
        "    start=start+1\n",
        "    if(start==len(column_sums)):\n",
        "      return\n",
        "  pixels=pixels[:,start:] #delete left whitespaces\n",
        "  column_sums=column_sums[start:]\n",
        "  end=0\n",
        "  start=0\n",
        "  while column_sums[end]<whiteval:\n",
        "    end=end+1\n",
        "  # print(pixels[:,start:end])\n",
        "  all_digits.append(pixels[:,start:end])  \n",
        "  \n",
        "  pixels=pixels[:,end:]\n",
        "  \n",
        "  column_sums=column_sums[end:]\n",
        "  get_separate_digits(len(column_sums))\n",
        "\n",
        "def remove_space_top_bottom(i):\n",
        "  row_sums = i.sum(axis=1)\n",
        "  column_sums = i.sum(axis=0)\n",
        "  # print(pixels.shape)\n",
        "  while average(i[0])>240:\n",
        "    i = np.delete(i, 0, 0) #delete top white space\n",
        "  while average(i[i.shape[0]-1])>240:\n",
        "    i = np.delete(i, i.shape[0]-1, 0) #delete bottom white space\n",
        "#   print(pixels.shape)\n",
        "  return i"
      ],
      "execution_count": 18,
      "outputs": []
    },
    {
      "cell_type": "code",
      "metadata": {
        "id": "meWoCZhBu9PD"
      },
      "source": [
        "\n",
        "all_digits=[]\n",
        "pixels\n",
        "column_sums\n",
        "\n",
        "def get_value(imgc):\n",
        "  global pixels\n",
        "  global column_sums\n",
        "  height=imgc.size[1]\n",
        "  width=imgc.size[0]\n",
        "  mul=width*height\n",
        "  imgc = imgc.resize((width,height))\n",
        "  imgc=array(imgc)\n",
        "\n",
        "  # print(img.shape)\n",
        "  # print(img.size)\n",
        "  print(imgc.size)\n",
        "  if(imgc.size>mul):\n",
        "    imgc=imgc[0:height,0:width,0:1]\n",
        "  # print(img.shape)\n",
        "  # print(img.size)\n",
        "  imgc=imgc.reshape((-1,mul))\n",
        "  imgc=(imgc-np.min(imgc))\n",
        "  imgc=imgc/np.max(imgc)\n",
        "  imgc=imgc*255\n",
        "  imgc=np.where(imgc<200, 0, imgc)\n",
        "  imgc=np.where(imgc>=200, 255, imgc)\n",
        "  pixels=imgc.reshape((height,width))\n",
        "  plt.imshow(pixels)\n",
        "  plt.show()\n",
        "  # print(pixels)\n",
        "  pixels2=pixels\n",
        "\n",
        "\n",
        "  pixels=pixels2\n",
        "  column_sums = pixels.sum(axis=0)\n",
        "  column_sums_orig=column_sums\n",
        "  # print(column_sums)\n",
        "  lastleft=0\n",
        "  # pix=get_digit() \n",
        "  # print(pix)\n",
        "  # pix=pix.reshape((30,))\n",
        "  # pix.shape\n",
        "  # plt.imshow(pix)\n",
        "  # plt.show()\n",
        "  # print(lastleft)\n",
        "  # print(column_sums)\n",
        "\n",
        "  global all_digits\n",
        "  all_digits=[]\n",
        "\n",
        "  print(pixels.shape)\n",
        "  print(len(column_sums))\n",
        "  get_separate_digits(len(column_sums))\n",
        "\n",
        "  # print(all_digits)\n",
        "  for i in all_digits:\n",
        "    all_digits[all_digits.index(i)]=remove_space_top_bottom(i)\n",
        "    # print(i)\n",
        "    # plt.imshow(i)\n",
        "    # plt.show()\n",
        "    # print(pixels)\n",
        "  # for i in all_digits:\n",
        "  #   # all_digits[all_digits.index(i)]=remove_space_top_bottom(i)\n",
        "  #   # print(i)\n",
        "    \n",
        "  #   plt.imshow(i)\n",
        "  #   plt.show()\n",
        "  print(len(all_digits))\n",
        "\n",
        "\n",
        "  ##### adding border to numbers to bring in dimensions similar to MNIST ######\n",
        "\n",
        "  for i in all_digits:\n",
        "    print(i.shape)\n",
        "    w=i.shape[1]\n",
        "    h=i.shape[0]\n",
        "\n",
        "    h2=18\n",
        "    w2=h2*w/h\n",
        "    top=int(floor(((28-h2)*h)/(2*h2)))\n",
        "    left=  int(floor(((28-w2)*w)/(2*w2)))\n",
        "    print(top,left)\n",
        "  \n",
        "    topwhite = [[255]*w]*top\n",
        "    itemp=i\n",
        "    i = np.append(topwhite, i, axis=0)\n",
        "    i = np.append(i, topwhite, axis=0)\n",
        "\n",
        "    leftwhite=[[255]*left]*(h+(2*top))\n",
        "    i = np.append(leftwhite, i, axis=1)\n",
        "    i = np.append(i, leftwhite, axis=1)\n",
        "  \n",
        "    all_digits[all_digits.index(itemp)]=i\n",
        "    plt.imshow(i)\n",
        "    plt.show()\n",
        "    # print(i)\n",
        "    # data = Image.fromarray(i)\n",
        "    # data = data.convert(\"L\")\n",
        "    # print(data)\n",
        "    # data.save('test'+str(counter)+'.jpg')\n",
        "    # # counter=counter+1\n",
        "\n",
        "  \n",
        "\n",
        "\n",
        "\n",
        "    # tempimg.save(str(height)+\".jpg\");\n",
        "\n",
        "\n",
        "\n",
        "# imgxx=Image.open('10.jpeg')\n",
        "# get_value(imgxx)"
      ],
      "execution_count": 41,
      "outputs": []
    },
    {
      "cell_type": "code",
      "metadata": {
        "id": "BHIFZWEDyhCX"
      },
      "source": [
        ""
      ],
      "execution_count": null,
      "outputs": []
    }
  ]
}